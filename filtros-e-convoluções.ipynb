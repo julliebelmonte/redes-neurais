{
 "cells": [
  {
   "cell_type": "markdown",
   "metadata": {},
   "source": [
    "#### Exercícios"
   ]
  },
  {
   "cell_type": "code",
   "execution_count": 1,
   "metadata": {},
   "outputs": [],
   "source": [
    "import numpy as np\n",
    "import cv2\n",
    "import matplotlib.pyplot as plt"
   ]
  },
  {
   "cell_type": "markdown",
   "metadata": {},
   "source": [
    "1) Transforme a imagem colorida da Lena em tons de cinza apenas usando o Numpy. (Lembre-se: as imagens são armazenadas no computador como matrizes de pixels!)\n",
    "\n",
    "(Dica: Y' = 0.2989 R + 0.5870 G + 0.1140 B )\n",
    "\n"
   ]
  },
  {
   "cell_type": "code",
   "execution_count": 3,
   "metadata": {},
   "outputs": [],
   "source": [
    "imagem = cv2.imread(\"lena_color.png\")\n",
    "\n",
    "cv2.imshow(\"Lena\", imagem)\n",
    "\n",
    "cv2.waitKey(0)\n",
    "\n",
    "cv2.destroyWindow(\"Lena\")\n"
   ]
  },
  {
   "cell_type": "code",
   "execution_count": 4,
   "metadata": {},
   "outputs": [],
   "source": [
    "blue, green, red = cv2.split(imagem)\n",
    "\n",
    "imagem_cinza= 0.2989*red + 0.5870*green + 0.1140*blue\n",
    "\n",
    "zeros = np.zeros(imagem.shape[:2], dtype=\"uint8\")\n",
    "\n",
    "blue_image = np.zeros(imagem.shape, dtype = \"uint8\")\n",
    "blue_image[:,:,0]  = blue\n",
    "\n",
    "cv2.imshow('blue', blue_image)\n",
    "cv2.waitKey(0)\n",
    "cv2.destroyWindow('blue')"
   ]
  },
  {
   "cell_type": "code",
   "execution_count": 5,
   "metadata": {},
   "outputs": [],
   "source": [
    "imagem = cv2.imread(\"lena_color.png\")\n",
    "# converte a imagem colorida para tons de cinza\n",
    "imagem_cinza = cv2.cvtColor(imagem, cv2.COLOR_BGR2GRAY)\n",
    "\n",
    "# aplica o filtro de média (função \"blur\"), de dimensão 5x5\n",
    "media = cv2.blur(imagem_cinza,(5,5))\n",
    "\n",
    "# aplica o filtro de laplace (função \"Laplacian\"), de dimensão 5x5 (\"ksize=5\")\n",
    "# aimagem resultante terá pixels de inteiros com sinal (\"cv2.CV_16S\")\n",
    "laplace = cv2.Laplacian(imagem_cinza, cv2.CV_16S, ksize=5)\n",
    "# aqui, tomamos o módulo (valor absoluto) dos pixels (função \"convertScaleAbs\")\n",
    "abs_laplace = cv2.convertScaleAbs(laplace)\n",
    "\n",
    "# aplica o filtro de mediana (função \"medianBlur\") de dimensão 5x5\n",
    "mediana = cv2.medianBlur(imagem_cinza,5)\n",
    "\n",
    "# aqui, concatenamos as imagens para serem exibidas lado a lado\n",
    "comparacao = np.concatenate((imagem_cinza, media, abs_laplace, mediana), axis=1)\n",
    "\n",
    "# a sequência de comandos abaixo exibe as imagens concatenadas\n",
    "# e fecha a janela, após uma tecla ser apertada         \n",
    "cv2.imshow('Filtros', comparacao)\n",
    "cv2.waitKey(0)\n",
    "cv2.destroyWindow(\"Filtros\")\n"
   ]
  },
  {
   "cell_type": "code",
   "execution_count": 6,
   "metadata": {},
   "outputs": [],
   "source": [
    "imagem = cv2.imread(\"lena_color.png\")\n",
    "# converte a imagem colorida para tons de cinza\n",
    "imagem_cinza = cv2.cvtColor(imagem, cv2.COLOR_BGR2GRAY)\n",
    "\n",
    "# filtro prewitt - vamos montar as matrizes do filtro explicitamente!\n",
    "# aqui, definimos a matriz (3x3) do kernel x do filtro\n",
    "kernelx = np.array([[1, 1, 1], [0, 0, 0], [-1, -1, -1]])\n",
    "# aqui, definimos a matriz (3x3) do kernel y do filtro\n",
    "kernely = np.array([[-1, 0, 1], [-1, 0, 1], [-1, 0, 1]])\n",
    "# convolucionamos o filtro x à imagem com a função \"filter2D\"\n",
    "# o argumento \"-1\" fixa que o tipo de imagem produzida será o mesmo da imagem de entrada,\n",
    "# quanto aos tipos de dados dos pixels\n",
    "img_prewittx = cv2.filter2D(imagem_cinza, -1, kernelx)\n",
    "# convolucionamos o filtro y à imagem com a função \"filter2D\"\n",
    "img_prewitty = cv2.filter2D(imagem_cinza, -1, kernely)\n",
    "# soma as convoluções em x e em y para produzir a imagem final\n",
    "img_prewitt = img_prewittx + img_prewitty\n",
    "\n",
    "# filtro sobel - vamos utilizar a função da OpenCV\n",
    "# convolucionamos o filtro x à imagem com a função \"Sobel\". \n",
    "# o filtro é 5x5 (\"ksize=5\"), com pixels de 8bits/pixel (\"cv2.CV_8U\")\n",
    "# a direção x é explicitada nos terceiro e quarto parâmetros, \"1, 0\"\n",
    "img_sobelx = cv2.Sobel(imagem_cinza, cv2.CV_8U, 1, 0, ksize=5)\n",
    "# convolucionamos o filtro y à imagem com a função \"Sobel\". O filtro é 5x5 (\"ksize=5\")\n",
    "img_sobely = cv2.Sobel(imagem_cinza, cv2.CV_8U, 0, 1, ksize=5)\n",
    "# soma as convoluções em x e em y para produzir a imagem final\n",
    "img_sobel = img_sobelx + img_sobely\n",
    "\n",
    "# aqui, concatenamos as imagens para serem exibidas lado a lado\n",
    "comparacao = np.concatenate((imagem_cinza, img_prewitt, img_sobel), axis=1)\n",
    "\n",
    "# a sequência de comandos abaixo exibe as imagens concatenadas\n",
    "# e fecha a janela, após uma tecla ser apertada \n",
    "cv2.imshow('Filtros', comparacao)\n",
    "cv2.waitKey(0)\n",
    "cv2.destroyWindow(\"Filtros\")\n"
   ]
  },
  {
   "cell_type": "markdown",
   "metadata": {},
   "source": [
    "#### Transformações geométricas"
   ]
  },
  {
   "cell_type": "code",
   "execution_count": 7,
   "metadata": {},
   "outputs": [],
   "source": [
    "shape = (1024, 1024)\n",
    "# aplicamos a função de redimensionamento \"resize\", utilizando interpolação linear (\"cv2.INTER_LINEAR\") para os pixels\n",
    "res = cv2.resize(imagem_cinza, shape, interpolation=cv2.INTER_LINEAR)\n",
    "\n",
    "# exibe a imagem redimensionada, e fecha a janela após uma tecla ser apertada\n",
    "cv2.imshow('Escala', res)\n",
    "cv2.waitKey(0)\n",
    "cv2.destroyWindow(\"Escala\")"
   ]
  },
  {
   "cell_type": "code",
   "execution_count": 8,
   "metadata": {},
   "outputs": [],
   "source": [
    "# armazenamos as dimensões originais da imagem\n",
    "rows, cols = imagem_cinza.shape\n",
    "# determinamos a matriz de transformação, que determina o quanto translacionaremos a imagem\n",
    "M = np.float32([[1, 0, 100], [0, 1, 50]])\n",
    "# aplicamos a transformação M com a função \"warpAffine\"\n",
    "# esta função pode aplicar qualquer transformação afim M à imagem\n",
    "# (lembre-se que todas as trasnformações geométricas são afins!)\n",
    "dst = cv2.warpAffine(imagem_cinza, M, (cols, rows))\n",
    "\n",
    "# exibe a imagem translacionada, e fecha a janela após uma tecla ser apertada\n",
    "cv2.imshow('Translacao', dst)\n",
    "cv2.waitKey(0)\n",
    "cv2.destroyAllWindows()\n"
   ]
  },
  {
   "cell_type": "code",
   "execution_count": 9,
   "metadata": {},
   "outputs": [],
   "source": [
    "# lê a Lenna colorida\n",
    "imagem = cv2.imread(\"lena_color.png\", 0)\n",
    "# armazena as dimensões originais\n",
    "rows, cols = imagem.shape\n",
    "\n",
    "# define a matriz de rotação como uma rotação de 90°, com a função \"getRotationMatrix2D\"\n",
    "M = cv2.getRotationMatrix2D((cols / 2, rows / 2), 90, 1)\n",
    "# aplica a matriz de rotação à imagem \n",
    "dst = cv2.warpAffine(imagem, M, (cols, rows))\n",
    "\n",
    "# exibe a imagem rotacionada, e fecha a janela após uma tecla ser apertada\n",
    "cv2.imshow('Rotacao', dst)\n",
    "cv2.waitKey(0)\n",
    "cv2.destroyAllWindows()"
   ]
  },
  {
   "cell_type": "code",
   "execution_count": 10,
   "metadata": {},
   "outputs": [],
   "source": [
    "# lê a Lenna colorida\n",
    "imagem = cv2.imread(\"lena_color.png\", 0)\n",
    "# armazena as dimensões originais\n",
    "rows, cols = imagem.shape\n",
    "\n",
    "# define as componentes da matriz de cisalhamento (3x2)\n",
    "pts1 = np.float32([[50, 50], [200, 50], [50, 200]])\n",
    "pts2 = np.float32([[10, 100], [200, 50], [100, 250]])\n",
    "\n",
    "# define a matriz de cisalhamento\n",
    "M = cv2.getAffineTransform(pts1, pts2)\n",
    "# aplica a matriz de cisalhamento à imagem \n",
    "dst = cv2.warpAffine(imagem, M, (cols, rows))\n",
    "\n",
    "# exibe a imagem cisalhada, e fecha a janela após uma tecla ser apertada\n",
    "cv2.imshow('Cisalhamento', dst)\n",
    "cv2.waitKey(0)\n",
    "cv2.destroyAllWindows()\n"
   ]
  }
 ],
 "metadata": {
  "interpreter": {
   "hash": "3f800561dde6209f0c647b1ec24b295364b37801e2a63d392a491285ef4d5a88"
  },
  "kernelspec": {
   "display_name": "Python 3.8.8 ('base')",
   "language": "python",
   "name": "python3"
  },
  "language_info": {
   "codemirror_mode": {
    "name": "ipython",
    "version": 3
   },
   "file_extension": ".py",
   "mimetype": "text/x-python",
   "name": "python",
   "nbconvert_exporter": "python",
   "pygments_lexer": "ipython3",
   "version": "3.8.8"
  },
  "orig_nbformat": 4
 },
 "nbformat": 4,
 "nbformat_minor": 2
}
